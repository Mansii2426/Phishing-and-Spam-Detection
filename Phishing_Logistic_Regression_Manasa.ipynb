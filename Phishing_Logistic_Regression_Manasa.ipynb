{
 "cells": [
  {
   "cell_type": "code",
   "execution_count": 1,
   "metadata": {
    "colab": {},
    "colab_type": "code",
    "id": "OiLSYUSo4Qvl"
   },
   "outputs": [],
   "source": [
    "import pandas as pd\n",
    "import numpy as np\n",
    "from sklearn import *\n",
    "from sklearn.linear_model import LogisticRegression\n",
    "from sklearn.metrics import accuracy_score\n",
    "\n"
   ]
  },
  {
   "cell_type": "code",
   "execution_count": 2,
   "metadata": {
    "colab": {},
    "colab_type": "code",
    "id": "AVecDCzc4Qvo"
   },
   "outputs": [],
   "source": [
    "dataset = np.genfromtxt('phishing_dataset.csv', delimiter=',', dtype=np.int32)\n",
    "samples = dataset[:,:-1]\n",
    "targets = dataset[:, -1]"
   ]
  },
  {
   "cell_type": "code",
   "execution_count": 4,
   "metadata": {
    "colab": {},
    "colab_type": "code",
    "id": "PxTkqknD4Qvr"
   },
   "outputs": [],
   "source": [
    "from sklearn.model_selection import train_test_split\n",
    "\n",
    "training_samples, testing_samples, training_targets, testing_targets = train_test_split(\n",
    "         samples, targets, test_size=0.15, random_state=345)"
   ]
  },
  {
   "cell_type": "code",
   "execution_count": 5,
   "metadata": {
    "colab": {},
    "colab_type": "code",
    "id": "r_Oq_aqX4Qvt"
   },
   "outputs": [],
   "source": [
    "LogRegression = LogisticRegression()"
   ]
  },
  {
   "cell_type": "code",
   "execution_count": 8,
   "metadata": {
    "colab": {},
    "colab_type": "code",
    "id": "gaMTQ3vx4Qvy",
    "outputId": "1b51747f-a9fb-4b3b-f030-0b3621826d4f"
   },
   "outputs": [
    {
     "data": {
      "text/plain": [
       "LogisticRegression()"
      ]
     },
     "execution_count": 8,
     "metadata": {},
     "output_type": "execute_result"
    }
   ],
   "source": [
    "LogRegression.fit(training_samples, training_targets)"
   ]
  },
  {
   "cell_type": "code",
   "execution_count": 10,
   "metadata": {
    "colab": {},
    "colab_type": "code",
    "id": "b-gt57j24Qv1"
   },
   "outputs": [],
   "source": [
    "predictions = LogRegression.predict(testing_samples)"
   ]
  },
  {
   "cell_type": "code",
   "execution_count": 12,
   "metadata": {
    "colab": {},
    "colab_type": "code",
    "id": "zl6S4PIq4Qv4",
    "outputId": "1ea02772-8833-42b9-d8dd-7c2da3109102"
   },
   "outputs": [
    {
     "data": {
      "text/plain": [
       "0.9168173598553345"
      ]
     },
     "execution_count": 12,
     "metadata": {},
     "output_type": "execute_result"
    }
   ],
   "source": [
    "Accuracy_Score = accuracy_score(testing_targets, predictions)\n",
    "Accuracy_Score"
   ]
  }
 ],
 "metadata": {
  "colab": {
   "name": "AISec-Phishing-Logistic Regression",
   "provenance": []
  },
  "kernelspec": {
   "display_name": "Python 3",
   "language": "python",
   "name": "python3"
  },
  "language_info": {
   "codemirror_mode": {
    "name": "ipython",
    "version": 3
   },
   "file_extension": ".py",
   "mimetype": "text/x-python",
   "name": "python",
   "nbconvert_exporter": "python",
   "pygments_lexer": "ipython3",
   "version": "3.9.1"
  }
 },
 "nbformat": 4,
 "nbformat_minor": 1
}
