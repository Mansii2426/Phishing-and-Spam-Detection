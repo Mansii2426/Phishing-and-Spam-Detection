{
 "cells": [
  {
   "cell_type": "code",
   "execution_count": 3,
   "metadata": {
    "colab": {},
    "colab_type": "code",
    "id": "2NBP9EPb4A_X",
    "outputId": "a413ed09-42ad-4e4d-8c0f-f9815b3f9ff0"
   },
   "outputs": [
    {
     "name": "stdout",
     "output_type": "stream",
     "text": [
      "0.7030183668238923\n"
     ]
    }
   ],
   "source": [
    "import numpy as np\n",
    "from sklearn.linear_model import LinearRegression\n",
    "\n",
    "dataset = np.genfromtxt('phishing_dataset.csv', delimiter=',', dtype=np.int32)\n",
    "\n",
    "samples = dataset[:,:-1]\n",
    "targets = dataset[:, -1]\n",
    "\n",
    "\n",
    "linear_regression = LinearRegression()\n",
    "linear_regression.fit(samples,targets)\n",
    "\n",
    "print (linear_regression.score(samples,targets))"
   ]
  },
  {
   "cell_type": "code",
   "execution_count": null,
   "metadata": {},
   "outputs": [],
   "source": []
  }
 ],
 "metadata": {
  "colab": {
   "name": "AISec-Spam-Linear Regression.ipynb",
   "provenance": []
  },
  "kernelspec": {
   "display_name": "Python 3",
   "language": "python",
   "name": "python3"
  },
  "language_info": {
   "codemirror_mode": {
    "name": "ipython",
    "version": 3
   },
   "file_extension": ".py",
   "mimetype": "text/x-python",
   "name": "python",
   "nbconvert_exporter": "python",
   "pygments_lexer": "ipython3",
   "version": "3.9.1"
  }
 },
 "nbformat": 4,
 "nbformat_minor": 1
}
